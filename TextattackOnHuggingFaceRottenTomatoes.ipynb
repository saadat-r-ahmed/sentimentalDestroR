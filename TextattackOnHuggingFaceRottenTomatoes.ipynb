{
 "cells": [
  {
   "attachments": {},
   "cell_type": "markdown",
   "metadata": {},
   "source": [
    "# Model Importing\n",
    "siebert/sentiment-roberta-large-english"
   ]
  },
  {
   "cell_type": "code",
   "execution_count": 7,
   "metadata": {},
   "outputs": [
    {
     "name": "stdout",
     "output_type": "stream",
     "text": [
      "Using custom data configuration default\n",
      "Reusing dataset rotten_tomatoes (/home/maxwell/.cache/huggingface/datasets/rotten_tomatoes/default/1.0.0/40d411e45a6ce3484deed7cc15b82a53dad9a72aafd9f86f8f227134bec5ca46)\n",
      "100%|███████████████████████████████████████████| 3/3 [00:00<00:00, 1045.79it/s]\n",
      "\u001b[34;1mtextattack\u001b[0m: Loading \u001b[94mdatasets\u001b[0m dataset \u001b[94mrotten_tomatoes\u001b[0m, split \u001b[94mtrain\u001b[0m.\n",
      "\u001b[34;1mtextattack\u001b[0m: Loading pre-trained model from HuggingFace model repository: \u001b[94msiebert/sentiment-roberta-large-english\u001b[0m\n",
      "\u001b[34;1mtextattack\u001b[0m: Unknown if model of class <class 'transformers.models.roberta.modeling_roberta.RobertaForSequenceClassification'> compatible with goal function <class 'textattack.goal_functions.classification.untargeted_classification.UntargetedClassification'>.\n",
      "\u001b[34;1mtextattack\u001b[0m: Logging to text file at path 2023-04-24-04-35-log.txt\n",
      "\u001b[34;1mtextattack\u001b[0m: Running 1 worker(s) on 1 GPU(s).\n",
      "\u001b[34;1mtextattack\u001b[0m: Worklist size: 15\n",
      "\u001b[34;1mtextattack\u001b[0m: Worklist candidate size: 8515\n",
      "  0%|                                                    | 0/15 [00:00<?, ?it/s]Attack(\n",
      "  (search_method): GreedyWordSwapWIR(\n",
      "    (wir_method):  unk\n",
      "  )\n",
      "  (goal_function):  UntargetedClassification\n",
      "  (transformation):  WordSwapEmbedding(\n",
      "    (max_candidates):  15\n",
      "    (embedding):  WordEmbedding\n",
      "  )\n",
      "  (constraints): \n",
      "    (0): RepeatModification\n",
      "    (1): StopwordModification\n",
      "  (is_black_box):  True\n",
      ") \n",
      "\n",
      "  7%|██▉                                         | 1/15 [00:14<03:27, 14.79s/it]--------------------------------------------- Result 1 ---------------------------------------------\n",
      "\u001b[92mPositive (100%)\u001b[0m --> \u001b[91mNegative (96%)\u001b[0m\n",
      "\n",
      "it's an ambitious film , and as with all ambitious \u001b[92mfilms\u001b[0m , it has some problems . but on the \u001b[92mwhole\u001b[0m , you're \u001b[92mgonna\u001b[0m \u001b[92mlike\u001b[0m this \u001b[92mmovie\u001b[0m .\n",
      "\n",
      "it's an ambitious film , and as with all ambitious \u001b[91mcine\u001b[0m , it has some problems . but on the \u001b[91mgenerals\u001b[0m , you're \u001b[91mwill\u001b[0m \u001b[91mgenera\u001b[0m this \u001b[91mcinematography\u001b[0m .\n",
      "[Succeeded / Failed / Skipped / Total] 1 / 0 / 0 / 1:  13%|▏| 2/15 [00:18<02:02,--------------------------------------------- Result 2 ---------------------------------------------\n",
      "\u001b[91mNegative (100%)\u001b[0m --> \u001b[92mPositive (99%)\u001b[0m\n",
      "\n",
      "cacoyannis' vision is far \u001b[91mless\u001b[0m mature , interpreting the play as a call for pity and sympathy for anachronistic phantasms haunting the imagined glory of their own pasts .\n",
      "\n",
      "cacoyannis' vision is far \u001b[92msmaller\u001b[0m mature , interpreting the play as a call for pity and sympathy for anachronistic phantasms haunting the imagined glory of their own pasts .\n",
      "[Succeeded / Failed / Skipped / Total] 2 / 0 / 0 / 2:  20%|▏| 3/15 [00:21<01:25,--------------------------------------------- Result 3 ---------------------------------------------\n",
      "\u001b[92mPositive (100%)\u001b[0m --> \u001b[91mNegative (98%)\u001b[0m\n",
      "\n",
      "yeah , these flicks are just that damn \u001b[92mgood\u001b[0m . isn't it great ?\n",
      "\n",
      "yeah , these flicks are just that damn \u001b[91malright\u001b[0m . isn't it great ?\n",
      "[Succeeded / Failed / Skipped / Total] 3 / 0 / 0 / 3:  27%|▎| 4/15 [00:26<01:14,--------------------------------------------- Result 4 ---------------------------------------------\n",
      "\u001b[92mPositive (100%)\u001b[0m --> \u001b[91mNegative (100%)\u001b[0m\n",
      "\n",
      "this movie \u001b[92mgot\u001b[0m me \u001b[92mgrinning\u001b[0m . there's a part of us that cannot help be entertained by the sight of someone getting away with something .\n",
      "\n",
      "this movie \u001b[91mwas\u001b[0m me \u001b[91msmirking\u001b[0m . there's a part of us that cannot help be entertained by the sight of someone getting away with something .\n",
      "[Succeeded / Failed / Skipped / Total] 4 / 0 / 0 / 4:  33%|▎| 5/15 [00:39<01:19,--------------------------------------------- Result 5 ---------------------------------------------\n",
      "\u001b[91mNegative (100%)\u001b[0m --> \u001b[92mPositive (99%)\u001b[0m\n",
      "\n",
      "what the \u001b[91mdirector\u001b[0m can&#8217 ; t do is \u001b[91mmake\u001b[0m \u001b[91meither\u001b[0m of val \u001b[91mkilmer\u001b[0m&#8217 ; s two \u001b[91mpersonas\u001b[0m \u001b[91minteresting\u001b[0m or worth caring about .\n",
      "\n",
      "what the \u001b[92mheadmistress\u001b[0m can&#8217 ; t do is \u001b[92mafford\u001b[0m \u001b[92mwithout\u001b[0m of val \u001b[92mharrelson\u001b[0m&#8217 ; s two \u001b[92mpersonally\u001b[0m \u001b[92mriveting\u001b[0m or worth caring about .\n",
      "[Succeeded / Failed / Skipped / Total] 5 / 0 / 0 / 5:  40%|▍| 6/15 [00:48<01:12,--------------------------------------------- Result 6 ---------------------------------------------\n",
      "\u001b[92mPositive (100%)\u001b[0m --> \u001b[91mNegative (100%)\u001b[0m\n",
      "\n",
      "the passions aroused by the discord between old and new cultures are \u001b[92mset\u001b[0m against the strange , stark beauty of the mideast desert , so \u001b[92mlovingly\u001b[0m and perceptively \u001b[92mfilmed\u001b[0m that you can almost taste the desiccated air .\n",
      "\n",
      "the passions aroused by the discord between old and new cultures are \u001b[91mgaming\u001b[0m against the strange , stark beauty of the mideast desert , so \u001b[91mlavishly\u001b[0m and perceptively \u001b[91mmurdered\u001b[0m that you can almost taste the desiccated air .\n",
      "[Succeeded / Failed / Skipped / Total] 6 / 0 / 0 / 6:  47%|▍| 7/15 [00:57<01:05,--------------------------------------------- Result 7 ---------------------------------------------\n",
      "\u001b[91mNegative (100%)\u001b[0m --> \u001b[92mPositive (99%)\u001b[0m\n",
      "\n",
      "trouble \u001b[91mevery\u001b[0m day is a success in some sense , but it's \u001b[91mhard\u001b[0m to like a \u001b[91mfilm\u001b[0m so cold and \u001b[91mdead\u001b[0m .\n",
      "\n",
      "trouble \u001b[92meveything\u001b[0m day is a success in some sense , but it's \u001b[92mchallenging\u001b[0m to like a \u001b[92mcinematography\u001b[0m so cold and \u001b[92mdie\u001b[0m .\n",
      "[Succeeded / Failed / Skipped / Total] 7 / 0 / 0 / 7:  53%|▌| 8/15 [01:05<00:57,--------------------------------------------- Result 8 ---------------------------------------------\n",
      "\u001b[91mNegative (100%)\u001b[0m --> \u001b[92mPositive (97%)\u001b[0m\n",
      "\n",
      "there's no \u001b[91mgetting\u001b[0m around the \u001b[91mfact\u001b[0m that this is revenge of the \u001b[91mnerds\u001b[0m \u001b[91mrevisited\u001b[0m -- again .\n",
      "\n",
      "there's no \u001b[92mobtain\u001b[0m around the \u001b[92meffected\u001b[0m that this is revenge of the \u001b[92mgeeks\u001b[0m \u001b[92mscrutinize\u001b[0m -- again .\n",
      "[Succeeded / Failed / Skipped / Total] 8 / 0 / 0 / 8:  60%|▌| 9/15 [01:15<00:50,--------------------------------------------- Result 9 ---------------------------------------------\n",
      "\u001b[91mNegative (100%)\u001b[0m --> \u001b[92mPositive (99%)\u001b[0m\n",
      "\n",
      "oh \u001b[91mcome\u001b[0m on . \u001b[91mlike\u001b[0m you couldn't \u001b[91msmell\u001b[0m this \u001b[91mturkey\u001b[0m rotting from \u001b[91mmiles\u001b[0m away .\n",
      "\n",
      "oh \u001b[92mbe\u001b[0m on . \u001b[92menjoy\u001b[0m you couldn't \u001b[92mperfume\u001b[0m this \u001b[92marmenians\u001b[0m rotting from \u001b[92mmilla\u001b[0m away .\n",
      "[Succeeded / Failed / Skipped / Total] 9 / 0 / 0 / 9:  67%|▋| 10/15 [01:34<00:47--------------------------------------------- Result 10 ---------------------------------------------\n",
      "\u001b[91mNegative (100%)\u001b[0m --> \u001b[92mPositive (98%)\u001b[0m\n",
      "\n",
      "shreve's \u001b[91mgraceful\u001b[0m \u001b[91mdual\u001b[0m \u001b[91mnarrative\u001b[0m gets \u001b[91mclunky\u001b[0m on the screen , and we keep \u001b[91mgetting\u001b[0m \u001b[91mtorn\u001b[0m away from the compelling \u001b[91mhistorical\u001b[0m tale to a less-compelling \u001b[91msoap\u001b[0m \u001b[91mopera\u001b[0m .\n",
      "\n",
      "shreve's \u001b[92mgraciously\u001b[0m \u001b[92mdoubled\u001b[0m \u001b[92mtale\u001b[0m gets \u001b[92mfiddly\u001b[0m on the screen , and we keep \u001b[92mgain\u001b[0m \u001b[92mdivided\u001b[0m away from the compelling \u001b[92mlandmark\u001b[0m tale to a less-compelling \u001b[92msoaps\u001b[0m \u001b[92mtheaters\u001b[0m .\n",
      "[Succeeded / Failed / Skipped / Total] 10 / 0 / 0 / 10:  73%|▋| 11/15 [01:39<00:--------------------------------------------- Result 11 ---------------------------------------------\n",
      "\u001b[92mPositive (100%)\u001b[0m --> \u001b[91mNegative (100%)\u001b[0m\n",
      "\n",
      "the film is \u001b[92mdarkly\u001b[0m \u001b[92mfunny\u001b[0m in its observation of just how much more grueling and time-consuming the illusion of work is than actual work .\n",
      "\n",
      "the film is \u001b[91mcomically\u001b[0m \u001b[91modd\u001b[0m in its observation of just how much more grueling and time-consuming the illusion of work is than actual work .\n",
      "[Succeeded / Failed / Skipped / Total] 11 / 0 / 0 / 11:  80%|▊| 12/15 [01:50<00:--------------------------------------------- Result 12 ---------------------------------------------\n",
      "\u001b[91mNegative (100%)\u001b[0m --> \u001b[92mPositive (99%)\u001b[0m\n",
      "\n",
      "only about as \u001b[91msexy\u001b[0m and dangerous as an actress in a role that \u001b[91mreminds\u001b[0m at \u001b[91mevery\u001b[0m \u001b[91mturn\u001b[0m of elizabeth berkley's \u001b[91mflopping\u001b[0m dolphin-gasm .\n",
      "\n",
      "only about as \u001b[92mscorching\u001b[0m and dangerous as an actress in a role that \u001b[92mcallbacks\u001b[0m at \u001b[92mtous\u001b[0m \u001b[92mtransforms\u001b[0m of elizabeth berkley's \u001b[92mwobbling\u001b[0m dolphin-gasm .\n",
      "[Succeeded / Failed / Skipped / Total] 12 / 0 / 0 / 12:  87%|▊| 13/15 [02:05<00:--------------------------------------------- Result 13 ---------------------------------------------\n",
      "\u001b[91mNegative (100%)\u001b[0m --> \u001b[92mPositive (99%)\u001b[0m\n",
      "\n",
      "as \u001b[91mexciting\u001b[0m as all this exoticism might \u001b[91msound\u001b[0m to the \u001b[91mtypical\u001b[0m \u001b[91mpax\u001b[0m \u001b[91mviewer\u001b[0m , the \u001b[91mrest\u001b[0m of us will be \u001b[91mlulled\u001b[0m into a coma .\n",
      "\n",
      "as \u001b[92mbreathtaking\u001b[0m as all this exoticism might \u001b[92maudible\u001b[0m to the \u001b[92mhallmarks\u001b[0m \u001b[92mromulus\u001b[0m \u001b[92maimer\u001b[0m , the \u001b[92mresting\u001b[0m of us will be \u001b[92mmesmerized\u001b[0m into a coma .\n",
      "[Succeeded / Failed / Skipped / Total] 13 / 0 / 0 / 13:  93%|▉| 14/15 [02:07<00:--------------------------------------------- Result 14 ---------------------------------------------\n",
      "\u001b[91mNegative (100%)\u001b[0m --> \u001b[92mPositive (99%)\u001b[0m\n",
      "\n",
      "a \u001b[91mhumorless\u001b[0m journey into a philosophical void .\n",
      "\n",
      "a \u001b[92msupercilious\u001b[0m journey into a philosophical void .\n",
      "[Succeeded / Failed / Skipped / Total] 14 / 0 / 0 / 14: 100%|█| 15/15 [02:11<00:--------------------------------------------- Result 15 ---------------------------------------------\n",
      "\u001b[91mNegative (100%)\u001b[0m --> \u001b[92mPositive (99%)\u001b[0m\n",
      "\n",
      "i've heard that the fans of the first men in black have come away hating the second one . i wonder why . they \u001b[91mfelt\u001b[0m like the same movie to me .\n",
      "\n",
      "i've heard that the fans of the first men in black have come away hating the second one . i wonder why . they \u001b[92mbelieved\u001b[0m like the same movie to me .\n",
      "[Succeeded / Failed / Skipped / Total] 15 / 0 / 0 / 15: 100%|█| 15/15 [02:12<00:\n",
      "\n",
      "+-------------------------------+--------+\n",
      "| Attack Results                |        |\n",
      "+-------------------------------+--------+\n",
      "| Number of successful attacks: | 15     |\n",
      "| Number of failed attacks:     | 0      |\n",
      "| Number of skipped attacks:    | 0      |\n",
      "| Original accuracy:            | 100.0% |\n",
      "| Accuracy under attack:        | 0.0%   |\n",
      "| Attack success rate:          | 100.0% |\n",
      "| Average perturbed word %:     | 18.6%  |\n",
      "| Average num. words per input: | 21.33  |\n",
      "| Avg num queries:              | 69.27  |\n",
      "+-------------------------------+--------+\n"
     ]
    }
   ],
   "source": [
    "# output in 2023-04-24-04-35-log.txt\n",
    "!textattack attack --model-from-huggingface siebert/sentiment-roberta-large-english --dataset-from-huggingface rotten_tomatoes --num-examples 15 --parallel --shuffle --log-to-txt"
   ]
  },
  {
   "cell_type": "code",
   "execution_count": 12,
   "metadata": {},
   "outputs": [
    {
     "name": "stdout",
     "output_type": "stream",
     "text": [
      "Using custom data configuration default\n",
      "Reusing dataset rotten_tomatoes (/home/maxwell/.cache/huggingface/datasets/rotten_tomatoes/default/1.0.0/40d411e45a6ce3484deed7cc15b82a53dad9a72aafd9f86f8f227134bec5ca46)\n",
      "100%|████████████████████████████████████████████| 3/3 [00:00<00:00, 813.16it/s]\n",
      "\u001b[34;1mtextattack\u001b[0m: Loading \u001b[94mdatasets\u001b[0m dataset \u001b[94mrotten_tomatoes\u001b[0m, split \u001b[94mtrain\u001b[0m.\n",
      "\u001b[34;1mtextattack\u001b[0m: Loading pre-trained model from HuggingFace model repository: \u001b[94msiebert/sentiment-roberta-large-english\u001b[0m\n",
      "If you want to use `RobertaLMHeadModel` as a standalone, add `is_decoder=True.`\n",
      "\u001b[34;1mtextattack\u001b[0m: Unknown if model of class <class 'transformers.models.roberta.modeling_roberta.RobertaForSequenceClassification'> compatible with goal function <class 'textattack.goal_functions.classification.untargeted_classification.UntargetedClassification'>.\n",
      "\u001b[34;1mtextattack\u001b[0m: Logging to text file at path 2023-04-24-04-51-log.txt\n",
      "\u001b[34;1mtextattack\u001b[0m: Running 1 worker(s) on 1 GPU(s).\n",
      "\u001b[34;1mtextattack\u001b[0m: Worklist size: 15\n",
      "\u001b[34;1mtextattack\u001b[0m: Worklist candidate size: 8515\n",
      "  0%|                                                    | 0/15 [00:00<?, ?it/s]Attack(\n",
      "  (search_method): GreedySearch\n",
      "  (goal_function):  UntargetedClassification\n",
      "  (transformation):  CompositeTransformation(\n",
      "    (0): WordSwapMaskedLM(\n",
      "        (method):  bae\n",
      "        (masked_lm_name):  RobertaForCausalLM\n",
      "        (max_length):  512\n",
      "        (max_candidates):  50\n",
      "        (min_confidence):  0.0005\n",
      "      )\n",
      "    (1): WordInsertionMaskedLM(\n",
      "        (masked_lm_name):  RobertaForCausalLM\n",
      "        (max_length):  512\n",
      "        (max_candidates):  50\n",
      "        (min_confidence):  0.0\n",
      "      )\n",
      "    (2): WordMergeMaskedLM(\n",
      "        (masked_lm_name):  RobertaForCausalLM\n",
      "        (max_length):  512\n",
      "        (max_candidates):  50\n",
      "        (min_confidence):  0.005\n",
      "      )\n",
      "    )\n",
      "  (constraints): \n",
      "    (0): UniversalSentenceEncoder(\n",
      "        (metric):  cosine\n",
      "        (threshold):  0.7\n",
      "        (window_size):  15\n",
      "        (skip_text_shorter_than_window):  True\n",
      "        (compare_against_original):  True\n",
      "      )\n",
      "    (1): RepeatModification\n",
      "    (2): StopwordModification\n",
      "  (is_black_box):  True\n",
      ") \n",
      "\n",
      "2023-04-24 04:51:56,365 SequenceTagger predicts: Dictionary with 19 tags: <unk>, NOUN, VERB, PUNCT, ADP, DET, PROPN, PRON, ADJ, ADV, CCONJ, PART, NUM, AUX, INTJ, SYM, X, <START>, <STOP>\n",
      "\u001b[34;1mtextattack\u001b[0m: Exception encountered for input \"OrderedDict([('text', \"it's an ambitious film , and as with all ambitious films , it has some problems . but on the whole , you're gonna like this movie .\")])\".\n",
      "\u001b[34;1mtextattack\u001b[0m: Traceback (most recent call last):\n",
      "  File \"/home/maxwell/Thesis/roberta/venv_txtatck/lib/python3.7/site-packages/textattack/attacker.py\", line 591, in attack_from_queue\n",
      "    result = attack.attack(example, ground_truth_output)\n",
      "  File \"/home/maxwell/Thesis/roberta/venv_txtatck/lib/python3.7/site-packages/textattack/attack.py\", line 448, in attack\n",
      "    result = self._attack(goal_function_result)\n",
      "  File \"/home/maxwell/Thesis/roberta/venv_txtatck/lib/python3.7/site-packages/textattack/attack.py\", line 396, in _attack\n",
      "    final_result = self.search_method(initial_result)\n",
      "  File \"/home/maxwell/Thesis/roberta/venv_txtatck/lib/python3.7/site-packages/textattack/search_methods/search_method.py\", line 36, in __call__\n",
      "    result = self.perform_search(initial_result)\n",
      "  File \"/home/maxwell/Thesis/roberta/venv_txtatck/lib/python3.7/site-packages/textattack/search_methods/beam_search.py\", line 33, in perform_search\n",
      "    text, original_text=initial_result.attacked_text\n",
      "  File \"/home/maxwell/Thesis/roberta/venv_txtatck/lib/python3.7/site-packages/textattack/attack.py\", line 304, in get_transformations\n",
      "    current_text, original_text, **kwargs\n",
      "  File \"/home/maxwell/Thesis/roberta/venv_txtatck/lib/python3.7/site-packages/textattack/attack.py\", line 274, in _get_transformations_uncached\n",
      "    **kwargs,\n",
      "  File \"/home/maxwell/Thesis/roberta/venv_txtatck/lib/python3.7/site-packages/textattack/transformations/composite_transformation.py\", line 39, in __call__\n",
      "    new_attacked_texts.update(transformation(*args, **kwargs))\n",
      "  File \"/home/maxwell/Thesis/roberta/venv_txtatck/lib/python3.7/site-packages/textattack/transformations/transformation.py\", line 57, in __call__\n",
      "    transformed_texts = self._get_transformations(current_text, indices_to_modify)\n",
      "  File \"/home/maxwell/Thesis/roberta/venv_txtatck/lib/python3.7/site-packages/textattack/transformations/word_merges/word_merge_masked_lm.py\", line 163, in _get_transformations\n",
      "    current_text.pos_of_word_index(i) for i in range(current_text.num_words)\n",
      "  File \"/home/maxwell/Thesis/roberta/venv_txtatck/lib/python3.7/site-packages/textattack/transformations/word_merges/word_merge_masked_lm.py\", line 163, in <listcomp>\n",
      "    current_text.pos_of_word_index(i) for i in range(current_text.num_words)\n",
      "  File \"/home/maxwell/Thesis/roberta/venv_txtatck/lib/python3.7/site-packages/textattack/shared/attacked_text.py\", line 142, in pos_of_word_index\n",
      "    self._pos_tags\n",
      "  File \"/home/maxwell/Thesis/roberta/venv_txtatck/lib/python3.7/site-packages/textattack/shared/utils/strings.py\", line 237, in zip_flair_result\n",
      "    pos_list.append(token.annotation_layers[\"pos\"][0]._value)\n",
      "KeyError: 'pos'\n",
      "\n",
      "  0%|                                                    | 0/15 [00:04<?, ?it/s]\n"
     ]
    }
   ],
   "source": [
    "# output in \n",
    "!textattack attack --attack-recipe clare --model-from-huggingface siebert/sentiment-roberta-large-english --dataset-from-huggingface rotten_tomatoes --num-examples 15 --parallel --shuffle --log-to-txt "
   ]
  },
  {
   "cell_type": "code",
   "execution_count": 7,
   "metadata": {},
   "outputs": [
    {
     "name": "stderr",
     "output_type": "stream",
     "text": [
      "textattack: Unknown if model of class <class 'transformers.models.roberta.modeling_roberta.RobertaForSequenceClassification'> compatible with goal function <class 'textattack.goal_functions.classification.untargeted_classification.UntargetedClassification'>.\n"
     ]
    }
   ],
   "source": [
    "from textattack import Attack\n",
    "from textattack.search_methods import GreedySearch\n",
    "from textattack.constraints.pre_transformation import RepeatModification, StopwordModification\n",
    "from textattack.goal_functions import UntargetedClassification\n",
    "from textattack.transformations import WordSwapEmbedding\n",
    "from textattack.constraints.pre_transformation import RepeatModification\n",
    "from textattack.constraints.pre_transformation import StopwordModification\n",
    "\n",
    "# We'll use untargeted classification as the goal function.\n",
    "goal_function = UntargetedClassification(model_wrapper)\n",
    "# We'll to use our WordSwapEmbedding as the attack transformation.\n",
    "transformation = WordSwapEmbedding() \n",
    "# We'll constrain modification of already modified indices and stopwords\n",
    "constraints = [RepeatModification(),\n",
    "               StopwordModification()]\n",
    "# We'll use the Greedy search method\n",
    "search_method = GreedySearch()\n",
    "# Now, let's make the attack from the 4 components:\n",
    "attack = Attack(goal_function, constraints, transformation, search_method)"
   ]
  },
  {
   "cell_type": "code",
   "execution_count": 3,
   "metadata": {},
   "outputs": [],
   "source": [
    "# dataset: An iterable of (text, ground_truth_output) pairs.\n",
    "#0 means the review is negative\n",
    "#1 means the review is positive\n",
    "custom_dataset = [\n",
    "    ('I hate this movie', 0), #A negative comment, with a negative label\n",
    "    ('I hate this movie', 1), #A negative comment, with a positive label\n",
    "    ('I love this movie', 0), #A positive comment, with a negative label\n",
    "    ('I love this movie', 1), #A positive comment, with a positive label\n",
    "]\n",
    "from textattack.datasets import Dataset\n",
    "dataset_module = Dataset(custom_dataset)"
   ]
  },
  {
   "cell_type": "code",
   "execution_count": 8,
   "metadata": {},
   "outputs": [],
   "source": [
    "## Full Dataset\n",
    "import pandas as pd \n",
    "from textattack.datasets import Dataset\n",
    "data = pd.read_csv('Sentiment_Dataset/SemEval17/Clean/semeval.csv')\n",
    "data['polarity'].replace('POS', 2, inplace=True)\n",
    "data['polarity'].replace('NEU', 1, inplace=True)\n",
    "data['polarity'].replace('NEG', 0, inplace=True)\n",
    "\n",
    "data = data[['text', 'polarity']].values.tolist()\n",
    "# data = data[:4]+data[5:41]+data[42:100]\n",
    "data = data[:100]\n",
    "dataset_module = Dataset(data)"
   ]
  },
  {
   "cell_type": "code",
   "execution_count": 9,
   "metadata": {},
   "outputs": [],
   "source": [
    "attack.cuda_()"
   ]
  },
  {
   "cell_type": "code",
   "execution_count": 4,
   "metadata": {},
   "outputs": [
    {
     "data": {
      "text/plain": [
       "<textattack.attack_results.successful_attack_result.SuccessfulAttackResult at 0x7f910dd69390>"
      ]
     },
     "execution_count": 4,
     "metadata": {},
     "output_type": "execute_result"
    }
   ],
   "source": [
    "attack.attack(\"Picturehouse's, Pink Floyd's, 'Roger Waters: The Walll - opening 29 Sept is now making waves. Watch the trailer on Rolling Stone - look...\", 1)"
   ]
  },
  {
   "cell_type": "code",
   "execution_count": 10,
   "metadata": {},
   "outputs": [
    {
     "name": "stdout",
     "output_type": "stream",
     "text": [
      "1\n",
      "\u001b[92m1 (100%)\u001b[0m --> \u001b[91m0 (100%)\u001b[0m\n",
      "\n",
      "Picturehouse's, Pink Floyd's, 'Roger Waters: The Walll - opening 29 Sept is now making \u001b[92mwaves\u001b[0m. Watch the trailer on Rolling Stone - look...\n",
      "\n",
      "Picturehouse's, Pink Floyd's, 'Roger Waters: The Walll - opening 29 Sept is now making \u001b[91mindistinct\u001b[0m. Watch the trailer on Rolling Stone - look...\n",
      "2\n",
      "\u001b[92m1 (100%)\u001b[0m --> \u001b[91m0 (100%)\u001b[0m\n",
      "\n",
      "Picturehouse's, Pink Floyd's, 'Roger Waters: The Walll - opening 29 Sept is now making \u001b[92mwaves\u001b[0m. Watch the trailer on Rolling Stone - look...\n",
      "\n",
      "Picturehouse's, Pink Floyd's, 'Roger Waters: The Walll - opening 29 Sept is now making \u001b[91mindistinct\u001b[0m. Watch the trailer on Rolling Stone - look...\n"
     ]
    }
   ],
   "source": [
    "results = []\n",
    "for example, label in dataset_module:\n",
    "    try:\n",
    "        result = attack.attack(example, label)\n",
    "        results.append(result)\n",
    "    except:\n",
    "        results.append(\"Invalid\")\n",
    "    print(len(results))\n",
    "    print(result.__str__(color_method=\"ansi\"))\n",
    "results\n"
   ]
  },
  {
   "cell_type": "code",
   "execution_count": 6,
   "metadata": {},
   "outputs": [
    {
     "data": {
      "text/plain": [
       "['Invalid']"
      ]
     },
     "execution_count": 6,
     "metadata": {},
     "output_type": "execute_result"
    }
   ],
   "source": [
    "results"
   ]
  },
  {
   "cell_type": "code",
   "execution_count": 55,
   "metadata": {},
   "outputs": [
    {
     "name": "stderr",
     "output_type": "stream",
     "text": [
      "textattack: CSVLogger exiting without calling flush().\n",
      "textattack: Logging to CSV at path log.csv\n",
      "textattack: Running 1 worker(s) on 1 GPU(s).\n",
      "textattack: Worklist size: 10\n",
      "textattack: Worklist candidate size: 88\n",
      "  0%|          | 0/10 [00:00<?, ?it/s]"
     ]
    },
    {
     "name": "stdout",
     "output_type": "stream",
     "text": [
      "Attack(\n",
      "  (search_method): GreedySearch\n",
      "  (goal_function):  UntargetedClassification\n",
      "  (transformation):  WordSwapEmbedding(\n",
      "    (max_candidates):  15\n",
      "    (embedding):  WordEmbedding\n",
      "  )\n",
      "  (constraints): \n",
      "    (0): RepeatModification\n",
      "    (1): StopwordModification\n",
      "  (is_black_box):  True\n",
      ") \n",
      "\n"
     ]
    },
    {
     "name": "stderr",
     "output_type": "stream",
     "text": [
      "[Succeeded / Failed / Skipped / Total] 1 / 0 / 0 / 1:  10%|█         | 1/10 [00:18<02:50, 18.91s/it]"
     ]
    },
    {
     "name": "stdout",
     "output_type": "stream",
     "text": [
      "--------------------------------------------- Result 1 ---------------------------------------------\n",
      "[[1 (100%)]] --> [[0 (100%)]]\n",
      "\n",
      "Picturehouse's, Pink Floyd's, 'Roger Waters: The Walll - opening 29 Sept is now making [[waves]]. Watch the trailer on Rolling Stone - look...\n",
      "\n",
      "Picturehouse's, Pink Floyd's, 'Roger Waters: The Walll - opening 29 Sept is now making [[indistinct]]. Watch the trailer on Rolling Stone - look...\n"
     ]
    },
    {
     "name": "stderr",
     "output_type": "stream",
     "text": [
      "[Succeeded / Failed / Skipped / Total] 2 / 0 / 0 / 2:  20%|██        | 2/10 [00:48<03:12, 24.09s/it]"
     ]
    },
    {
     "name": "stdout",
     "output_type": "stream",
     "text": [
      "--------------------------------------------- Result 2 ---------------------------------------------\n",
      "[[1 (100%)]] --> [[0 (100%)]]\n",
      "\n",
      "Order [[Go]] Set a Watchman in store or through our website before Tuesday and get it half [[price]]! #GSAW @GSAWatchmanBook https://t.co/KET6EGD1an\n",
      "\n",
      "Order [[Skip]] Set a Watchman in store or through our website before Tuesday and get it half [[fare]]! #GSAW @GSAWatchmanBook https://t.co/KET6EGD1an\n"
     ]
    },
    {
     "name": "stderr",
     "output_type": "stream",
     "text": [
      "[Succeeded / Failed / Skipped / Total] 3 / 0 / 0 / 3:  30%|███       | 3/10 [01:22<03:13, 27.59s/it]"
     ]
    },
    {
     "name": "stdout",
     "output_type": "stream",
     "text": [
      "--------------------------------------------- Result 3 ---------------------------------------------\n",
      "[[0 (100%)]] --> [[1 (100%)]]\n",
      "\n",
      "[[If]] these runway renovations at the airport prevent me from seeing Taylor Swift on Monday, Bad Blood will have a new [[meaning]].\n",
      "\n",
      "[[Albeit]] these runway renovations at the airport prevent me from seeing Taylor Swift on Monday, Bad Blood will have a new [[sense]].\n"
     ]
    },
    {
     "name": "stderr",
     "output_type": "stream",
     "text": [
      "[Succeeded / Failed / Skipped / Total] 4 / 0 / 0 / 4:  40%|████      | 4/10 [01:37<02:25, 24.30s/it]textattack: Exception encountered for input \"OrderedDict([('text', 'Excited to read \"Go Set a Watchman\" on Tuesday.  But can it possibly live up to \"To Kill a Mockingbird?\"  Any opinions?')])\".\n",
      "textattack: Traceback (most recent call last):\n",
      "  File \"/home/maxwell/Thesis/roberta/venv_txtatck/lib/python3.7/site-packages/textattack/attacker.py\", line 591, in attack_from_queue\n",
      "    result = attack.attack(example, ground_truth_output)\n",
      "  File \"/home/maxwell/Thesis/roberta/venv_txtatck/lib/python3.7/site-packages/textattack/attack.py\", line 443, in attack\n",
      "    example, ground_truth_output\n",
      "  File \"/home/maxwell/Thesis/roberta/venv_txtatck/lib/python3.7/site-packages/textattack/goal_functions/goal_function.py\", line 68, in init_attack_example\n",
      "    result, _ = self.get_result(attacked_text, check_skip=True)\n",
      "  File \"/home/maxwell/Thesis/roberta/venv_txtatck/lib/python3.7/site-packages/textattack/goal_functions/goal_function.py\", line 79, in get_result\n",
      "    results, search_over = self.get_results([attacked_text], **kwargs)\n",
      "  File \"/home/maxwell/Thesis/roberta/venv_txtatck/lib/python3.7/site-packages/textattack/goal_functions/goal_function.py\", line 102, in get_results\n",
      "    goal_function_score = self._get_score(raw_output, attacked_text)\n",
      "  File \"/home/maxwell/Thesis/roberta/venv_txtatck/lib/python3.7/site-packages/textattack/goal_functions/classification/untargeted_classification.py\", line 41, in _get_score\n",
      "    return 1 - model_output[self.ground_truth_output]\n",
      "IndexError: index 2 is out of bounds for dimension 0 with size 2\n",
      "\n"
     ]
    },
    {
     "name": "stdout",
     "output_type": "stream",
     "text": [
      "--------------------------------------------- Result 4 ---------------------------------------------\n",
      "[[1 (99%)]] --> [[0 (100%)]]\n",
      "\n",
      "If you could ask an onstage interview question at [[Miss]] USA tomorrow, what would it be?\n",
      "\n",
      "If you could ask an onstage interview question at [[Missed]] USA tomorrow, what would it be?\n"
     ]
    },
    {
     "name": "stderr",
     "output_type": "stream",
     "text": [
      "[Succeeded / Failed / Skipped / Total] 4 / 0 / 0 / 4:  40%|████      | 4/10 [01:37<02:26, 24.37s/it]\n"
     ]
    }
   ],
   "source": [
    "from tqdm import tqdm # tqdm provides us a nice progress bar.\n",
    "from textattack.loggers import CSVLogger # tracks a dataframe for us.\n",
    "from textattack.attack_results import SuccessfulAttackResult\n",
    "from textattack import Attacker\n",
    "from textattack import AttackArgs\n",
    "from textattack.datasets import Dataset\n",
    "\n",
    "attack_args = AttackArgs(num_examples=10, log_to_csv=\"log.csv\", parallel=True, csv_coloring_style = \"file\")\n",
    "\n",
    "attacker = Attacker(attack, dataset_module, attack_args)\n",
    "\n",
    "attack_results = attacker.attack_dataset()\n",
    "\n",
    "\n",
    "#The following legacy tutorial code shows how the Attack API works in detail.\n",
    "\n",
    "# logger = CSVLogger(color_method='html')\n",
    "\n",
    "# num_successes = 0\n",
    "# i = 0\n",
    "# while num_successes < 10:\n",
    "#     result = next(results_iterable)\n",
    "#     example, ground_truth_output = dataset[i]\n",
    "#     i += 1\n",
    "#     result = attack.attack(example, ground_truth_output)\n",
    "#     if isinstance(result, SuccessfulAttackResult):\n",
    "#        logger.log_attack_result(result)\n",
    "#        num_successes += 1\n",
    "#        print(f'{num_successes} of 10 successes complete.')"
   ]
  },
  {
   "cell_type": "code",
   "execution_count": 46,
   "metadata": {},
   "outputs": [
    {
     "data": {
      "text/plain": [
       "[<textattack.attack_results.successful_attack_result.SuccessfulAttackResult at 0x7f055a2c0450>,\n",
       " <textattack.attack_results.successful_attack_result.SuccessfulAttackResult at 0x7f050d9b59d0>,\n",
       " <textattack.attack_results.successful_attack_result.SuccessfulAttackResult at 0x7f050ead4cd0>,\n",
       " <textattack.attack_results.successful_attack_result.SuccessfulAttackResult at 0x7f050dc6bed0>]"
      ]
     },
     "execution_count": 46,
     "metadata": {},
     "output_type": "execute_result"
    }
   ],
   "source": []
  },
  {
   "cell_type": "code",
   "execution_count": 47,
   "metadata": {},
   "outputs": [
    {
     "data": {
      "text/plain": [
       "<textattack.datasets.dataset.Dataset at 0x7f052c285f90>"
      ]
     },
     "execution_count": 47,
     "metadata": {},
     "output_type": "execute_result"
    }
   ],
   "source": []
  },
  {
   "cell_type": "code",
   "execution_count": 4,
   "metadata": {},
   "outputs": [
    {
     "name": "stdout",
     "output_type": "stream",
     "text": [
      "Using custom data configuration default\n",
      "Reusing dataset rotten_tomatoes (/home/maxwell/.cache/huggingface/datasets/rotten_tomatoes/default/1.0.0/40d411e45a6ce3484deed7cc15b82a53dad9a72aafd9f86f8f227134bec5ca46)\n",
      "100%|████████████████████████████████████████████| 3/3 [00:00<00:00, 421.03it/s]\n",
      "\u001b[34;1mtextattack\u001b[0m: Loading \u001b[94mdatasets\u001b[0m dataset \u001b[94mrotten_tomatoes\u001b[0m, split \u001b[94mtrain\u001b[0m.\n",
      "\u001b[34;1mtextattack\u001b[0m: Loading pre-trained model from HuggingFace model repository: \u001b[94msiebert/sentiment-roberta-large-english\u001b[0m\n",
      "\u001b[34;1mtextattack\u001b[0m: Unknown if model of class <class 'transformers.models.roberta.modeling_roberta.RobertaForSequenceClassification'> compatible with goal function <class 'textattack.goal_functions.classification.untargeted_classification.UntargetedClassification'>.\n",
      "Attack(\n",
      "  (search_method): GreedyWordSwapWIR(\n",
      "    (wir_method):  unk\n",
      "  )\n",
      "  (goal_function):  UntargetedClassification\n",
      "  (transformation):  WordSwapEmbedding(\n",
      "    (max_candidates):  15\n",
      "    (embedding):  WordEmbedding\n",
      "  )\n",
      "  (constraints): \n",
      "    (0): RepeatModification\n",
      "    (1): StopwordModification\n",
      "  (is_black_box):  True\n",
      ") \n",
      "\n",
      " 10%|████▍                                       | 1/10 [00:05<00:46,  5.15s/it]--------------------------------------------- Result 1 ---------------------------------------------\n",
      "\u001b[92mPositive (100%)\u001b[0m --> \u001b[91mNegative (100%)\u001b[0m\n",
      "\n",
      "the rock is destined to be the 21st century's new \" conan \" and that he's going to make a \u001b[92msplash\u001b[0m even greater than arnold schwarzenegger , jean-claud van damme or steven segal .\n",
      "\n",
      "the rock is destined to be the 21st century's new \" conan \" and that he's going to make a \u001b[91mspatter\u001b[0m even greater than arnold schwarzenegger , jean-claud van damme or steven segal .\n",
      "\n",
      "\n",
      "[Succeeded / Failed / Skipped / Total] 1 / 0 / 0 / 1:  20%|▏| 2/10 [00:12<00:49,--------------------------------------------- Result 2 ---------------------------------------------\n",
      "\u001b[92mPositive (100%)\u001b[0m --> \u001b[91mNegative (93%)\u001b[0m\n",
      "\n",
      "the gorgeously elaborate continuation of \" the lord of the rings \" trilogy is so \u001b[92mhuge\u001b[0m that a column of words cannot adequately \u001b[92mdescribe\u001b[0m co-writer/director peter jackson's expanded vision of j . r . r . tolkien's middle-earth .\n",
      "\n",
      "the gorgeously elaborate continuation of \" the lord of the rings \" trilogy is so \u001b[91moverwhelming\u001b[0m that a column of words cannot adequately \u001b[91mportrays\u001b[0m co-writer/director peter jackson's expanded vision of j . r . r . tolkien's middle-earth .\n",
      "\n",
      "\n",
      "[Succeeded / Failed / Skipped / Total] 2 / 0 / 0 / 2:  30%|▎| 3/10 [00:12<00:29,--------------------------------------------- Result 3 ---------------------------------------------\n",
      "\u001b[91mNegative (99%)\u001b[0m --> \u001b[38:5:240m[SKIPPED]\u001b[0m\n",
      "\n",
      "effective but too-tepid biopic\n",
      "\n",
      "\n",
      "[Succeeded / Failed / Skipped / Total] 2 / 0 / 1 / 3:  40%|▍| 4/10 [00:19<00:28,--------------------------------------------- Result 4 ---------------------------------------------\n",
      "\u001b[92mPositive (100%)\u001b[0m --> \u001b[91mNegative (99%)\u001b[0m\n",
      "\n",
      "if you \u001b[92msometimes\u001b[0m like to go to the movies to have \u001b[92mfun\u001b[0m , wasabi is a \u001b[92mgood\u001b[0m place to start .\n",
      "\n",
      "if you \u001b[91mseldom\u001b[0m like to go to the movies to have \u001b[91mcomical\u001b[0m , wasabi is a \u001b[91mallright\u001b[0m place to start .\n",
      "\n",
      "\n",
      "[Succeeded / Failed / Skipped / Total] 3 / 0 / 1 / 4:  50%|▌| 5/10 [00:26<00:26,--------------------------------------------- Result 5 ---------------------------------------------\n",
      "\u001b[92mPositive (100%)\u001b[0m --> \u001b[91mNegative (100%)\u001b[0m\n",
      "\n",
      "emerges as something \u001b[92mrare\u001b[0m , an issue movie that's so \u001b[92mhonest\u001b[0m and \u001b[92mkeenly\u001b[0m observed that it doesn't feel like one .\n",
      "\n",
      "emerges as something \u001b[91mmeagre\u001b[0m , an issue movie that's so \u001b[91mveritable\u001b[0m and \u001b[91mharshly\u001b[0m observed that it doesn't feel like one .\n",
      "\n",
      "\n",
      "[Succeeded / Failed / Skipped / Total] 4 / 0 / 1 / 5:  60%|▌| 6/10 [00:29<00:19,--------------------------------------------- Result 6 ---------------------------------------------\n",
      "\u001b[92mPositive (100%)\u001b[0m --> \u001b[91mNegative (62%)\u001b[0m\n",
      "\n",
      "the film \u001b[92mprovides\u001b[0m some great insight into the neurotic mindset of all comics -- even those who have reached the absolute top of the game .\n",
      "\n",
      "the film \u001b[91manticipates\u001b[0m some great insight into the neurotic mindset of all comics -- even those who have reached the absolute top of the game .\n",
      "\n",
      "\n",
      "[Succeeded / Failed / Skipped / Total] 5 / 0 / 1 / 6:  70%|▋| 7/10 [00:37<00:16,--------------------------------------------- Result 7 ---------------------------------------------\n",
      "\u001b[92mPositive (100%)\u001b[0m --> \u001b[91mNegative (100%)\u001b[0m\n",
      "\n",
      "\u001b[92moffers\u001b[0m that \u001b[92mrare\u001b[0m \u001b[92mcombination\u001b[0m of entertainment and \u001b[92meducation\u001b[0m .\n",
      "\n",
      "\u001b[91mtenders\u001b[0m that \u001b[91mmeager\u001b[0m \u001b[91mconjugate\u001b[0m of entertainment and \u001b[91mdidactic\u001b[0m .\n",
      "\n",
      "\n",
      "[Succeeded / Failed / Skipped / Total] 6 / 0 / 1 / 7:  80%|▊| 8/10 [00:38<00:09,--------------------------------------------- Result 8 ---------------------------------------------\n",
      "\u001b[91mNegative (100%)\u001b[0m --> \u001b[38:5:240m[SKIPPED]\u001b[0m\n",
      "\n",
      "perhaps no picture ever made has more literally showed that the road to hell is paved with good intentions .\n",
      "\n",
      "\n",
      "[Succeeded / Failed / Skipped / Total] 6 / 0 / 2 / 8:  90%|▉| 9/10 [00:41<00:04,--------------------------------------------- Result 9 ---------------------------------------------\n",
      "\u001b[92mPositive (100%)\u001b[0m --> \u001b[91mNegative (99%)\u001b[0m\n",
      "\n",
      "steers turns in a snappy screenplay that curls at the edges ; it's so clever you want to hate it . but he somehow \u001b[92mpulls\u001b[0m it off .\n",
      "\n",
      "steers turns in a snappy screenplay that curls at the edges ; it's so clever you want to hate it . but he somehow \u001b[91mwithdraws\u001b[0m it off .\n",
      "\n",
      "\n",
      "[Succeeded / Failed / Skipped / Total] 7 / 0 / 2 / 9: 100%|█| 10/10 [00:45<00:00--------------------------------------------- Result 10 ---------------------------------------------\n",
      "\u001b[92mPositive (100%)\u001b[0m --> \u001b[91mNegative (99%)\u001b[0m\n",
      "\n",
      "take care of my cat offers a \u001b[92mrefreshingly\u001b[0m \u001b[92mdifferent\u001b[0m slice of asian cinema .\n",
      "\n",
      "take care of my cat offers a \u001b[91mblithely\u001b[0m \u001b[91mdissimilar\u001b[0m slice of asian cinema .\n",
      "\n",
      "\n",
      "[Succeeded / Failed / Skipped / Total] 8 / 0 / 2 / 10: 100%|█| 10/10 [00:45<00:0\n",
      "\n",
      "+-------------------------------+--------+\n",
      "| Attack Results                |        |\n",
      "+-------------------------------+--------+\n",
      "| Number of successful attacks: | 8      |\n",
      "| Number of failed attacks:     | 0      |\n",
      "| Number of skipped attacks:    | 2      |\n",
      "| Original accuracy:            | 80.0%  |\n",
      "| Accuracy under attack:        | 0.0%   |\n",
      "| Attack success rate:          | 100.0% |\n",
      "| Average perturbed word %:     | 14.29% |\n",
      "| Average num. words per input: | 19.5   |\n",
      "| Avg num queries:              | 45.38  |\n",
      "+-------------------------------+--------+\n"
     ]
    }
   ],
   "source": []
  },
  {
   "cell_type": "code",
   "execution_count": null,
   "metadata": {},
   "outputs": [],
   "source": []
  }
 ],
 "metadata": {
  "kernelspec": {
   "display_name": "venv_txtatck",
   "language": "python",
   "name": "python3"
  },
  "language_info": {
   "codemirror_mode": {
    "name": "ipython",
    "version": 3
   },
   "file_extension": ".py",
   "mimetype": "text/x-python",
   "name": "python",
   "nbconvert_exporter": "python",
   "pygments_lexer": "ipython3",
   "version": "3.7.16"
  },
  "orig_nbformat": 4
 },
 "nbformat": 4,
 "nbformat_minor": 2
}
